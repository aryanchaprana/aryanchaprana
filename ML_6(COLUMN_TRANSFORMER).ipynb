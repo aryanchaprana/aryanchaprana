{
  "nbformat": 4,
  "nbformat_minor": 0,
  "metadata": {
    "colab": {
      "provenance": [],
      "authorship_tag": "ABX9TyNOlMWjvOK82HsyA01xVU5j",
      "include_colab_link": true
    },
    "kernelspec": {
      "name": "python3",
      "display_name": "Python 3"
    },
    "language_info": {
      "name": "python"
    }
  },
  "cells": [
    {
      "cell_type": "markdown",
      "metadata": {
        "id": "view-in-github",
        "colab_type": "text"
      },
      "source": [
        "<a href=\"https://colab.research.google.com/github/aryanchaprana/aryanchaprana/blob/main/ML_6(COLUMN_TRANSFORMER).ipynb\" target=\"_parent\"><img src=\"https://colab.research.google.com/assets/colab-badge.svg\" alt=\"Open In Colab\"/></a>"
      ]
    },
    {
      "cell_type": "code",
      "execution_count": 1,
      "metadata": {
        "id": "AI49cP0Utvcg"
      },
      "outputs": [],
      "source": [
        "import numpy as np\n",
        "import pandas as pd\n",
        "import matplotlib.pyplot as plt\n",
        "import seaborn as sns\n"
      ]
    },
    {
      "cell_type": "code",
      "source": [
        "from sklearn.impute import SimpleImputer\n",
        "from sklearn.preprocessing import OrdinalEncoder\n",
        "from sklearn.preprocessing import OneHotEncoder"
      ],
      "metadata": {
        "id": "1zTxBfiPuOfD"
      },
      "execution_count": 2,
      "outputs": []
    },
    {
      "cell_type": "code",
      "source": [
        "df=pd.read_csv('/content/covid_toy.csv')\n",
        "\n",
        "df.head()"
      ],
      "metadata": {
        "colab": {
          "base_uri": "https://localhost:8080/",
          "height": 206
        },
        "id": "y6bZPsvsugpG",
        "outputId": "cf77e006-f000-4290-d99d-364a834e6852"
      },
      "execution_count": 3,
      "outputs": [
        {
          "output_type": "execute_result",
          "data": {
            "text/plain": [
              "   age  gender  fever cough     city has_covid\n",
              "0   60    Male  103.0  Mild  Kolkata        No\n",
              "1   27    Male  100.0  Mild    Delhi       Yes\n",
              "2   42    Male  101.0  Mild    Delhi        No\n",
              "3   31  Female   98.0  Mild  Kolkata        No\n",
              "4   65  Female  101.0  Mild   Mumbai        No"
            ],
            "text/html": [
              "\n",
              "  <div id=\"df-ed8d31b6-a28b-4a5e-b512-715838a3d31c\" class=\"colab-df-container\">\n",
              "    <div>\n",
              "<style scoped>\n",
              "    .dataframe tbody tr th:only-of-type {\n",
              "        vertical-align: middle;\n",
              "    }\n",
              "\n",
              "    .dataframe tbody tr th {\n",
              "        vertical-align: top;\n",
              "    }\n",
              "\n",
              "    .dataframe thead th {\n",
              "        text-align: right;\n",
              "    }\n",
              "</style>\n",
              "<table border=\"1\" class=\"dataframe\">\n",
              "  <thead>\n",
              "    <tr style=\"text-align: right;\">\n",
              "      <th></th>\n",
              "      <th>age</th>\n",
              "      <th>gender</th>\n",
              "      <th>fever</th>\n",
              "      <th>cough</th>\n",
              "      <th>city</th>\n",
              "      <th>has_covid</th>\n",
              "    </tr>\n",
              "  </thead>\n",
              "  <tbody>\n",
              "    <tr>\n",
              "      <th>0</th>\n",
              "      <td>60</td>\n",
              "      <td>Male</td>\n",
              "      <td>103.0</td>\n",
              "      <td>Mild</td>\n",
              "      <td>Kolkata</td>\n",
              "      <td>No</td>\n",
              "    </tr>\n",
              "    <tr>\n",
              "      <th>1</th>\n",
              "      <td>27</td>\n",
              "      <td>Male</td>\n",
              "      <td>100.0</td>\n",
              "      <td>Mild</td>\n",
              "      <td>Delhi</td>\n",
              "      <td>Yes</td>\n",
              "    </tr>\n",
              "    <tr>\n",
              "      <th>2</th>\n",
              "      <td>42</td>\n",
              "      <td>Male</td>\n",
              "      <td>101.0</td>\n",
              "      <td>Mild</td>\n",
              "      <td>Delhi</td>\n",
              "      <td>No</td>\n",
              "    </tr>\n",
              "    <tr>\n",
              "      <th>3</th>\n",
              "      <td>31</td>\n",
              "      <td>Female</td>\n",
              "      <td>98.0</td>\n",
              "      <td>Mild</td>\n",
              "      <td>Kolkata</td>\n",
              "      <td>No</td>\n",
              "    </tr>\n",
              "    <tr>\n",
              "      <th>4</th>\n",
              "      <td>65</td>\n",
              "      <td>Female</td>\n",
              "      <td>101.0</td>\n",
              "      <td>Mild</td>\n",
              "      <td>Mumbai</td>\n",
              "      <td>No</td>\n",
              "    </tr>\n",
              "  </tbody>\n",
              "</table>\n",
              "</div>\n",
              "    <div class=\"colab-df-buttons\">\n",
              "\n",
              "  <div class=\"colab-df-container\">\n",
              "    <button class=\"colab-df-convert\" onclick=\"convertToInteractive('df-ed8d31b6-a28b-4a5e-b512-715838a3d31c')\"\n",
              "            title=\"Convert this dataframe to an interactive table.\"\n",
              "            style=\"display:none;\">\n",
              "\n",
              "  <svg xmlns=\"http://www.w3.org/2000/svg\" height=\"24px\" viewBox=\"0 -960 960 960\">\n",
              "    <path d=\"M120-120v-720h720v720H120Zm60-500h600v-160H180v160Zm220 220h160v-160H400v160Zm0 220h160v-160H400v160ZM180-400h160v-160H180v160Zm440 0h160v-160H620v160ZM180-180h160v-160H180v160Zm440 0h160v-160H620v160Z\"/>\n",
              "  </svg>\n",
              "    </button>\n",
              "\n",
              "  <style>\n",
              "    .colab-df-container {\n",
              "      display:flex;\n",
              "      gap: 12px;\n",
              "    }\n",
              "\n",
              "    .colab-df-convert {\n",
              "      background-color: #E8F0FE;\n",
              "      border: none;\n",
              "      border-radius: 50%;\n",
              "      cursor: pointer;\n",
              "      display: none;\n",
              "      fill: #1967D2;\n",
              "      height: 32px;\n",
              "      padding: 0 0 0 0;\n",
              "      width: 32px;\n",
              "    }\n",
              "\n",
              "    .colab-df-convert:hover {\n",
              "      background-color: #E2EBFA;\n",
              "      box-shadow: 0px 1px 2px rgba(60, 64, 67, 0.3), 0px 1px 3px 1px rgba(60, 64, 67, 0.15);\n",
              "      fill: #174EA6;\n",
              "    }\n",
              "\n",
              "    .colab-df-buttons div {\n",
              "      margin-bottom: 4px;\n",
              "    }\n",
              "\n",
              "    [theme=dark] .colab-df-convert {\n",
              "      background-color: #3B4455;\n",
              "      fill: #D2E3FC;\n",
              "    }\n",
              "\n",
              "    [theme=dark] .colab-df-convert:hover {\n",
              "      background-color: #434B5C;\n",
              "      box-shadow: 0px 1px 3px 1px rgba(0, 0, 0, 0.15);\n",
              "      filter: drop-shadow(0px 1px 2px rgba(0, 0, 0, 0.3));\n",
              "      fill: #FFFFFF;\n",
              "    }\n",
              "  </style>\n",
              "\n",
              "    <script>\n",
              "      const buttonEl =\n",
              "        document.querySelector('#df-ed8d31b6-a28b-4a5e-b512-715838a3d31c button.colab-df-convert');\n",
              "      buttonEl.style.display =\n",
              "        google.colab.kernel.accessAllowed ? 'block' : 'none';\n",
              "\n",
              "      async function convertToInteractive(key) {\n",
              "        const element = document.querySelector('#df-ed8d31b6-a28b-4a5e-b512-715838a3d31c');\n",
              "        const dataTable =\n",
              "          await google.colab.kernel.invokeFunction('convertToInteractive',\n",
              "                                                    [key], {});\n",
              "        if (!dataTable) return;\n",
              "\n",
              "        const docLinkHtml = 'Like what you see? Visit the ' +\n",
              "          '<a target=\"_blank\" href=https://colab.research.google.com/notebooks/data_table.ipynb>data table notebook</a>'\n",
              "          + ' to learn more about interactive tables.';\n",
              "        element.innerHTML = '';\n",
              "        dataTable['output_type'] = 'display_data';\n",
              "        await google.colab.output.renderOutput(dataTable, element);\n",
              "        const docLink = document.createElement('div');\n",
              "        docLink.innerHTML = docLinkHtml;\n",
              "        element.appendChild(docLink);\n",
              "      }\n",
              "    </script>\n",
              "  </div>\n",
              "\n",
              "\n",
              "<div id=\"df-2c2fe228-c8be-4bb6-8bbf-03034e6a40e0\">\n",
              "  <button class=\"colab-df-quickchart\" onclick=\"quickchart('df-2c2fe228-c8be-4bb6-8bbf-03034e6a40e0')\"\n",
              "            title=\"Suggest charts\"\n",
              "            style=\"display:none;\">\n",
              "\n",
              "<svg xmlns=\"http://www.w3.org/2000/svg\" height=\"24px\"viewBox=\"0 0 24 24\"\n",
              "     width=\"24px\">\n",
              "    <g>\n",
              "        <path d=\"M19 3H5c-1.1 0-2 .9-2 2v14c0 1.1.9 2 2 2h14c1.1 0 2-.9 2-2V5c0-1.1-.9-2-2-2zM9 17H7v-7h2v7zm4 0h-2V7h2v10zm4 0h-2v-4h2v4z\"/>\n",
              "    </g>\n",
              "</svg>\n",
              "  </button>\n",
              "\n",
              "<style>\n",
              "  .colab-df-quickchart {\n",
              "      --bg-color: #E8F0FE;\n",
              "      --fill-color: #1967D2;\n",
              "      --hover-bg-color: #E2EBFA;\n",
              "      --hover-fill-color: #174EA6;\n",
              "      --disabled-fill-color: #AAA;\n",
              "      --disabled-bg-color: #DDD;\n",
              "  }\n",
              "\n",
              "  [theme=dark] .colab-df-quickchart {\n",
              "      --bg-color: #3B4455;\n",
              "      --fill-color: #D2E3FC;\n",
              "      --hover-bg-color: #434B5C;\n",
              "      --hover-fill-color: #FFFFFF;\n",
              "      --disabled-bg-color: #3B4455;\n",
              "      --disabled-fill-color: #666;\n",
              "  }\n",
              "\n",
              "  .colab-df-quickchart {\n",
              "    background-color: var(--bg-color);\n",
              "    border: none;\n",
              "    border-radius: 50%;\n",
              "    cursor: pointer;\n",
              "    display: none;\n",
              "    fill: var(--fill-color);\n",
              "    height: 32px;\n",
              "    padding: 0;\n",
              "    width: 32px;\n",
              "  }\n",
              "\n",
              "  .colab-df-quickchart:hover {\n",
              "    background-color: var(--hover-bg-color);\n",
              "    box-shadow: 0 1px 2px rgba(60, 64, 67, 0.3), 0 1px 3px 1px rgba(60, 64, 67, 0.15);\n",
              "    fill: var(--button-hover-fill-color);\n",
              "  }\n",
              "\n",
              "  .colab-df-quickchart-complete:disabled,\n",
              "  .colab-df-quickchart-complete:disabled:hover {\n",
              "    background-color: var(--disabled-bg-color);\n",
              "    fill: var(--disabled-fill-color);\n",
              "    box-shadow: none;\n",
              "  }\n",
              "\n",
              "  .colab-df-spinner {\n",
              "    border: 2px solid var(--fill-color);\n",
              "    border-color: transparent;\n",
              "    border-bottom-color: var(--fill-color);\n",
              "    animation:\n",
              "      spin 1s steps(1) infinite;\n",
              "  }\n",
              "\n",
              "  @keyframes spin {\n",
              "    0% {\n",
              "      border-color: transparent;\n",
              "      border-bottom-color: var(--fill-color);\n",
              "      border-left-color: var(--fill-color);\n",
              "    }\n",
              "    20% {\n",
              "      border-color: transparent;\n",
              "      border-left-color: var(--fill-color);\n",
              "      border-top-color: var(--fill-color);\n",
              "    }\n",
              "    30% {\n",
              "      border-color: transparent;\n",
              "      border-left-color: var(--fill-color);\n",
              "      border-top-color: var(--fill-color);\n",
              "      border-right-color: var(--fill-color);\n",
              "    }\n",
              "    40% {\n",
              "      border-color: transparent;\n",
              "      border-right-color: var(--fill-color);\n",
              "      border-top-color: var(--fill-color);\n",
              "    }\n",
              "    60% {\n",
              "      border-color: transparent;\n",
              "      border-right-color: var(--fill-color);\n",
              "    }\n",
              "    80% {\n",
              "      border-color: transparent;\n",
              "      border-right-color: var(--fill-color);\n",
              "      border-bottom-color: var(--fill-color);\n",
              "    }\n",
              "    90% {\n",
              "      border-color: transparent;\n",
              "      border-bottom-color: var(--fill-color);\n",
              "    }\n",
              "  }\n",
              "</style>\n",
              "\n",
              "  <script>\n",
              "    async function quickchart(key) {\n",
              "      const quickchartButtonEl =\n",
              "        document.querySelector('#' + key + ' button');\n",
              "      quickchartButtonEl.disabled = true;  // To prevent multiple clicks.\n",
              "      quickchartButtonEl.classList.add('colab-df-spinner');\n",
              "      try {\n",
              "        const charts = await google.colab.kernel.invokeFunction(\n",
              "            'suggestCharts', [key], {});\n",
              "      } catch (error) {\n",
              "        console.error('Error during call to suggestCharts:', error);\n",
              "      }\n",
              "      quickchartButtonEl.classList.remove('colab-df-spinner');\n",
              "      quickchartButtonEl.classList.add('colab-df-quickchart-complete');\n",
              "    }\n",
              "    (() => {\n",
              "      let quickchartButtonEl =\n",
              "        document.querySelector('#df-2c2fe228-c8be-4bb6-8bbf-03034e6a40e0 button');\n",
              "      quickchartButtonEl.style.display =\n",
              "        google.colab.kernel.accessAllowed ? 'block' : 'none';\n",
              "    })();\n",
              "  </script>\n",
              "</div>\n",
              "\n",
              "    </div>\n",
              "  </div>\n"
            ],
            "application/vnd.google.colaboratory.intrinsic+json": {
              "type": "dataframe",
              "variable_name": "df",
              "summary": "{\n  \"name\": \"df\",\n  \"rows\": 100,\n  \"fields\": [\n    {\n      \"column\": \"age\",\n      \"properties\": {\n        \"dtype\": \"number\",\n        \"std\": 24,\n        \"min\": 5,\n        \"max\": 84,\n        \"num_unique_values\": 55,\n        \"samples\": [\n          55,\n          84,\n          49\n        ],\n        \"semantic_type\": \"\",\n        \"description\": \"\"\n      }\n    },\n    {\n      \"column\": \"gender\",\n      \"properties\": {\n        \"dtype\": \"category\",\n        \"num_unique_values\": 2,\n        \"samples\": [\n          \"Female\",\n          \"Male\"\n        ],\n        \"semantic_type\": \"\",\n        \"description\": \"\"\n      }\n    },\n    {\n      \"column\": \"fever\",\n      \"properties\": {\n        \"dtype\": \"number\",\n        \"std\": 2.0549261782367014,\n        \"min\": 98.0,\n        \"max\": 104.0,\n        \"num_unique_values\": 7,\n        \"samples\": [\n          103.0,\n          100.0\n        ],\n        \"semantic_type\": \"\",\n        \"description\": \"\"\n      }\n    },\n    {\n      \"column\": \"cough\",\n      \"properties\": {\n        \"dtype\": \"category\",\n        \"num_unique_values\": 2,\n        \"samples\": [\n          \"Strong\",\n          \"Mild\"\n        ],\n        \"semantic_type\": \"\",\n        \"description\": \"\"\n      }\n    },\n    {\n      \"column\": \"city\",\n      \"properties\": {\n        \"dtype\": \"category\",\n        \"num_unique_values\": 4,\n        \"samples\": [\n          \"Delhi\",\n          \"Bangalore\"\n        ],\n        \"semantic_type\": \"\",\n        \"description\": \"\"\n      }\n    },\n    {\n      \"column\": \"has_covid\",\n      \"properties\": {\n        \"dtype\": \"category\",\n        \"num_unique_values\": 2,\n        \"samples\": [\n          \"Yes\",\n          \"No\"\n        ],\n        \"semantic_type\": \"\",\n        \"description\": \"\"\n      }\n    }\n  ]\n}"
            }
          },
          "metadata": {},
          "execution_count": 3
        }
      ]
    },
    {
      "cell_type": "code",
      "source": [
        "X=df.iloc[:,:-1]\n",
        "y=df.iloc[:,-1]"
      ],
      "metadata": {
        "id": "7GU8J3WquxTR"
      },
      "execution_count": 4,
      "outputs": []
    },
    {
      "cell_type": "code",
      "source": [
        "from sklearn.model_selection import train_test_split\n",
        "X_train,X_test,y_train,y_test=train_test_split(X,y,test_size=0.2,random_state=42)"
      ],
      "metadata": {
        "id": "113B4HVwvaHM"
      },
      "execution_count": 5,
      "outputs": []
    },
    {
      "cell_type": "code",
      "source": [
        "df['city'].nunique()"
      ],
      "metadata": {
        "colab": {
          "base_uri": "https://localhost:8080/"
        },
        "id": "ar4goGEKv5oN",
        "outputId": "410c4117-46f9-4ed4-f10e-59649a5cf6f2"
      },
      "execution_count": 6,
      "outputs": [
        {
          "output_type": "execute_result",
          "data": {
            "text/plain": [
              "4"
            ]
          },
          "metadata": {},
          "execution_count": 6
        }
      ]
    },
    {
      "cell_type": "code",
      "source": [
        "df.isnull().sum()"
      ],
      "metadata": {
        "colab": {
          "base_uri": "https://localhost:8080/",
          "height": 272
        },
        "id": "efmBqNtKv_oB",
        "outputId": "b8f154a2-76df-4bd3-f020-ecc37566fcd3"
      },
      "execution_count": 7,
      "outputs": [
        {
          "output_type": "execute_result",
          "data": {
            "text/plain": [
              "age           0\n",
              "gender        0\n",
              "fever        10\n",
              "cough         0\n",
              "city          0\n",
              "has_covid     0\n",
              "dtype: int64"
            ],
            "text/html": [
              "<div>\n",
              "<style scoped>\n",
              "    .dataframe tbody tr th:only-of-type {\n",
              "        vertical-align: middle;\n",
              "    }\n",
              "\n",
              "    .dataframe tbody tr th {\n",
              "        vertical-align: top;\n",
              "    }\n",
              "\n",
              "    .dataframe thead th {\n",
              "        text-align: right;\n",
              "    }\n",
              "</style>\n",
              "<table border=\"1\" class=\"dataframe\">\n",
              "  <thead>\n",
              "    <tr style=\"text-align: right;\">\n",
              "      <th></th>\n",
              "      <th>0</th>\n",
              "    </tr>\n",
              "  </thead>\n",
              "  <tbody>\n",
              "    <tr>\n",
              "      <th>age</th>\n",
              "      <td>0</td>\n",
              "    </tr>\n",
              "    <tr>\n",
              "      <th>gender</th>\n",
              "      <td>0</td>\n",
              "    </tr>\n",
              "    <tr>\n",
              "      <th>fever</th>\n",
              "      <td>10</td>\n",
              "    </tr>\n",
              "    <tr>\n",
              "      <th>cough</th>\n",
              "      <td>0</td>\n",
              "    </tr>\n",
              "    <tr>\n",
              "      <th>city</th>\n",
              "      <td>0</td>\n",
              "    </tr>\n",
              "    <tr>\n",
              "      <th>has_covid</th>\n",
              "      <td>0</td>\n",
              "    </tr>\n",
              "  </tbody>\n",
              "</table>\n",
              "</div><br><label><b>dtype:</b> int64</label>"
            ]
          },
          "metadata": {},
          "execution_count": 7
        }
      ]
    },
    {
      "cell_type": "markdown",
      "source": [
        "## ***COLUMN TRANSFORMER***"
      ],
      "metadata": {
        "id": "pYvmviuEysRz"
      }
    },
    {
      "cell_type": "code",
      "source": [
        "from sklearn.compose import ColumnTransformer\n",
        "\n",
        "\n"
      ],
      "metadata": {
        "id": "zjaqPUsIwwLn"
      },
      "execution_count": 8,
      "outputs": []
    },
    {
      "cell_type": "code",
      "source": [
        "transformer=ColumnTransformer(transformers=[\n",
        "    ('imputer',SimpleImputer(),['fever']),\n",
        "    ('ordinal',OrdinalEncoder(categories=[['Mild','Strong']]),['cough']),\n",
        "    ('onehot',OneHotEncoder(sparse=False,drop='first'),['gender','city'])#yha sparse= false ka matlb sparse matrix m NSWER NAI DEGA end m .array() nai lgana pdega\n",
        "],remainder='passthrough')#passthrough means ki jinpe kuch action perform nai hua vo as it is rahemge"
      ],
      "metadata": {
        "id": "f3nLmWqIt_z3"
      },
      "execution_count": 20,
      "outputs": []
    },
    {
      "cell_type": "code",
      "source": [
        "transformer.fit_transform(X_train)\n"
      ],
      "metadata": {
        "id": "h532iI0Tzkvz",
        "colab": {
          "base_uri": "https://localhost:8080/"
        },
        "outputId": "fc511fc5-3bc1-4fa9-ecc6-6f78a50fdd1b"
      },
      "execution_count": 21,
      "outputs": [
        {
          "output_type": "stream",
          "name": "stderr",
          "text": [
            "/usr/local/lib/python3.10/dist-packages/sklearn/preprocessing/_encoders.py:975: FutureWarning: `sparse` was renamed to `sparse_output` in version 1.2 and will be removed in 1.4. `sparse_output` is ignored unless you leave `sparse` to its default value.\n",
            "  warnings.warn(\n"
          ]
        },
        {
          "output_type": "execute_result",
          "data": {
            "text/plain": [
              "array([[101.,   0.,   0.,   0.,   0.,   1.,  81.],\n",
              "       [100.,   0.,   0.,   0.,   1.,   0.,   5.],\n",
              "       [100.,   0.,   0.,   0.,   1.,   0.,  19.],\n",
              "       [100.,   0.,   1.,   1.,   0.,   0.,  27.],\n",
              "       [103.,   0.,   0.,   1.,   0.,   0.,  73.],\n",
              "       [103.,   1.,   1.,   0.,   1.,   0.,  70.],\n",
              "       [102.,   0.,   0.,   1.,   0.,   0.,  49.],\n",
              "       [101.,   1.,   0.,   0.,   1.,   0.,  51.],\n",
              "       [101.,   0.,   0.,   1.,   0.,   0.,  64.],\n",
              "       [101.,   0.,   0.,   0.,   1.,   0.,  83.],\n",
              "       [ 98.,   0.,   0.,   0.,   0.,   1.,  65.],\n",
              "       [104.,   0.,   0.,   0.,   0.,   0.,  18.],\n",
              "       [103.,   0.,   0.,   0.,   0.,   0.,  16.],\n",
              "       [104.,   0.,   1.,   0.,   1.,   0.,  16.],\n",
              "       [100.,   0.,   1.,   0.,   1.,   0.,  27.],\n",
              "       [101.,   0.,   0.,   0.,   0.,   0.,  84.],\n",
              "       [104.,   0.,   1.,   0.,   1.,   0.,  51.],\n",
              "       [102.,   0.,   0.,   0.,   0.,   0.,  69.],\n",
              "       [102.,   1.,   0.,   0.,   0.,   0.,  82.],\n",
              "       [103.,   0.,   0.,   0.,   1.,   0.,  69.],\n",
              "       [104.,   0.,   1.,   0.,   0.,   1.,  44.],\n",
              "       [102.,   0.,   1.,   0.,   0.,   1.,  74.],\n",
              "       [101.,   1.,   0.,   0.,   0.,   1.,  20.],\n",
              "       [104.,   0.,   0.,   0.,   0.,   0.,  12.],\n",
              "       [102.,   1.,   0.,   1.,   0.,   0.,  33.],\n",
              "       [101.,   1.,   0.,   0.,   0.,   0.,  42.],\n",
              "       [ 99.,   0.,   1.,   1.,   0.,   0.,  65.],\n",
              "       [101.,   0.,   1.,   0.,   0.,   1.,  23.],\n",
              "       [104.,   1.,   0.,   0.,   0.,   0.,  56.],\n",
              "       [102.,   0.,   1.,   0.,   0.,   0.,  64.],\n",
              "       [100.,   1.,   0.,   0.,   1.,   0.,  13.],\n",
              "       [ 98.,   0.,   0.,   0.,   1.,   0.,  31.],\n",
              "       [ 98.,   1.,   0.,   1.,   0.,   0.,  40.],\n",
              "       [101.,   0.,   0.,   1.,   0.,   0.,  49.],\n",
              "       [100.,   1.,   0.,   0.,   0.,   0.,  19.],\n",
              "       [100.,   0.,   1.,   0.,   0.,   0.,  11.],\n",
              "       [101.,   1.,   1.,   0.,   0.,   0.,  14.],\n",
              "       [104.,   0.,   1.,   0.,   0.,   1.,  42.],\n",
              "       [101.,   0.,   0.,   0.,   0.,   0.,  38.],\n",
              "       [103.,   1.,   1.,   0.,   0.,   0.,  46.],\n",
              "       [101.,   1.,   1.,   0.,   1.,   0.,  71.],\n",
              "       [ 98.,   1.,   0.,   0.,   1.,   0.,  10.],\n",
              "       [ 99.,   0.,   0.,   0.,   0.,   1.,  60.],\n",
              "       [ 99.,   0.,   0.,   0.,   0.,   0.,  22.],\n",
              "       [101.,   0.,   1.,   1.,   0.,   0.,  19.],\n",
              "       [ 99.,   0.,   1.,   0.,   0.,   0.,  65.],\n",
              "       [101.,   0.,   0.,   0.,   0.,   1.,  19.],\n",
              "       [104.,   1.,   0.,   0.,   1.,   0.,  54.],\n",
              "       [ 98.,   1.,   0.,   0.,   0.,   1.,  81.],\n",
              "       [101.,   0.,   0.,   0.,   0.,   0.,  20.],\n",
              "       [103.,   0.,   0.,   0.,   1.,   0.,  48.],\n",
              "       [101.,   0.,   1.,   0.,   1.,   0.,  82.],\n",
              "       [ 98.,   1.,   1.,   0.,   0.,   1.,  23.],\n",
              "       [ 99.,   1.,   1.,   0.,   0.,   0.,  66.],\n",
              "       [ 98.,   1.,   0.,   0.,   0.,   1.,   5.],\n",
              "       [ 99.,   1.,   0.,   0.,   0.,   0.,  49.],\n",
              "       [102.,   0.,   1.,   0.,   1.,   0.,   5.],\n",
              "       [101.,   1.,   0.,   1.,   0.,   0.,  34.],\n",
              "       [101.,   1.,   1.,   0.,   1.,   0.,  79.],\n",
              "       [104.,   0.,   0.,   0.,   1.,   0.,   6.],\n",
              "       [100.,   0.,   1.,   0.,   0.,   0.,  10.],\n",
              "       [ 98.,   1.,   0.,   0.,   0.,   1.,  69.],\n",
              "       [100.,   0.,   1.,   0.,   1.,   0.,  55.],\n",
              "       [101.,   1.,   0.,   0.,   0.,   1.,  34.],\n",
              "       [100.,   0.,   1.,   1.,   0.,   0.,  27.],\n",
              "       [100.,   1.,   0.,   0.,   0.,   0.,  47.],\n",
              "       [ 98.,   0.,   1.,   0.,   0.,   0.,  73.],\n",
              "       [101.,   0.,   1.,   1.,   0.,   0.,  42.],\n",
              "       [ 98.,   0.,   0.,   1.,   0.,   0.,  80.],\n",
              "       [101.,   1.,   1.,   0.,   0.,   0.,  47.],\n",
              "       [101.,   0.,   1.,   1.,   0.,   0.,  38.],\n",
              "       [104.,   1.,   0.,   1.,   0.,   0.,  34.],\n",
              "       [104.,   0.,   1.,   0.,   0.,   0.,  25.],\n",
              "       [ 98.,   0.,   1.,   0.,   1.,   0.,  24.],\n",
              "       [ 98.,   1.,   1.,   0.,   0.,   0.,  12.],\n",
              "       [102.,   1.,   0.,   0.,   0.,   0.,  24.],\n",
              "       [104.,   1.,   0.,   1.,   0.,   0.,  75.],\n",
              "       [104.,   0.,   1.,   0.,   0.,   0.,  51.],\n",
              "       [102.,   1.,   0.,   0.,   1.,   0.,  82.],\n",
              "       [100.,   1.,   0.,   0.,   1.,   0.,  11.]])"
            ]
          },
          "metadata": {},
          "execution_count": 21
        }
      ]
    },
    {
      "cell_type": "code",
      "source": [
        "transformer.transform(X_test)"
      ],
      "metadata": {
        "id": "mITTomylrfDN",
        "colab": {
          "base_uri": "https://localhost:8080/"
        },
        "outputId": "d3c9e4de-9ae3-48bf-925f-5043ec47b9f8"
      },
      "execution_count": 22,
      "outputs": [
        {
          "output_type": "execute_result",
          "data": {
            "text/plain": [
              "array([[104.,   0.,   0.,   0.,   1.,   0.,  17.],\n",
              "       [ 98.,   0.,   1.,   1.,   0.,   0.,  83.],\n",
              "       [101.,   1.,   0.,   1.,   0.,   0.,  68.],\n",
              "       [ 99.,   0.,   1.,   0.,   0.,   0.,  72.],\n",
              "       [102.,   1.,   1.,   1.,   0.,   0.,  20.],\n",
              "       [103.,   0.,   0.,   0.,   1.,   0.,  50.],\n",
              "       [ 98.,   1.,   0.,   0.,   1.,   0.,  71.],\n",
              "       [ 99.,   0.,   0.,   0.,   0.,   1.,  14.],\n",
              "       [101.,   0.,   0.,   1.,   0.,   0.,  75.],\n",
              "       [103.,   0.,   1.,   0.,   1.,   0.,  60.],\n",
              "       [ 98.,   0.,   0.,   0.,   0.,   0.,  64.],\n",
              "       [101.,   0.,   1.,   1.,   0.,   0.,  15.],\n",
              "       [ 98.,   1.,   1.,   0.,   1.,   0.,  34.],\n",
              "       [ 98.,   0.,   0.,   0.,   1.,   0.,  26.],\n",
              "       [ 99.,   1.,   0.,   1.,   0.,   0.,  59.],\n",
              "       [101.,   0.,   0.,   0.,   0.,   1.,  65.],\n",
              "       [100.,   0.,   1.,   0.,   0.,   0.,  80.],\n",
              "       [101.,   0.,   0.,   0.,   1.,   0.,   8.],\n",
              "       [ 99.,   1.,   0.,   0.,   1.,   0.,  25.],\n",
              "       [103.,   0.,   1.,   0.,   1.,   0.,  83.]])"
            ]
          },
          "metadata": {},
          "execution_count": 22
        }
      ]
    },
    {
      "cell_type": "code",
      "source": [],
      "metadata": {
        "id": "wWkddSjIr6S4"
      },
      "execution_count": null,
      "outputs": []
    }
  ]
}