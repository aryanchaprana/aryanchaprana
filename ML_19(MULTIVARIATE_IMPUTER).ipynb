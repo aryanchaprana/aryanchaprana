{
  "nbformat": 4,
  "nbformat_minor": 0,
  "metadata": {
    "colab": {
      "provenance": [],
      "authorship_tag": "ABX9TyN5yOO9IYd9EYQjN83sGFuC",
      "include_colab_link": true
    },
    "kernelspec": {
      "name": "python3",
      "display_name": "Python 3"
    },
    "language_info": {
      "name": "python"
    }
  },
  "cells": [
    {
      "cell_type": "markdown",
      "metadata": {
        "id": "view-in-github",
        "colab_type": "text"
      },
      "source": [
        "<a href=\"https://colab.research.google.com/github/aryanchaprana/aryanchaprana/blob/main/ML_19(MULTIVARIATE_IMPUTER).ipynb\" target=\"_parent\"><img src=\"https://colab.research.google.com/assets/colab-badge.svg\" alt=\"Open In Colab\"/></a>"
      ]
    },
    {
      "cell_type": "markdown",
      "source": [
        "MICE=MULTIVARIATE IMPUTATION BY CHAINED EQUATIONS"
      ],
      "metadata": {
        "id": "IzmECo548CNv"
      }
    },
    {
      "cell_type": "markdown",
      "source": [
        "MCAR=MISSING COMPLETELY  AT RANDOM\n",
        "MAR=MISSING AT RANDOM (WHEN PEOPLE DIDNT FILL THE DATA BUT CAN BE FILLED WITH RELATION)\n",
        "MNAR=MISSING NOT AT RANDOM(DATA IS REMOVED CONCIOUSLY)"
      ],
      "metadata": {
        "id": "0MV8AyWc_BpK"
      }
    },
    {
      "cell_type": "markdown",
      "source": [
        "MICE IS USED WHEN DATA IS MISSING AT RAMDOM"
      ],
      "metadata": {
        "id": "TR4f-OJk_YoC"
      }
    },
    {
      "cell_type": "markdown",
      "source": [
        "will bw doing this"
      ],
      "metadata": {
        "id": "5y4KYMlELs5E"
      }
    },
    {
      "cell_type": "code",
      "source": [],
      "metadata": {
        "id": "C6ABGes38MVD"
      },
      "execution_count": null,
      "outputs": []
    }
  ]
}